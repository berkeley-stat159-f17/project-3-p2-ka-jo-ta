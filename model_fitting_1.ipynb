{
 "cells": [
  {
   "cell_type": "markdown",
   "metadata": {},
   "source": [
    "# Model Fitting\n",
    "\n",
    "We want to find the causal effect of studying on grades, so we will be using some econometric techniques, focusing on causal inference. We will first run a naive OLS fit, and then demonstrate why it is inappropriate in this context.\n",
    "\n",
    "### Naive OLS Fit\n",
    "\n",
    "The naive approach would be to use these data to fit a \"kitchen sink\" OLS regression to the data. So lets see what this regression would yield, and then address the plausibility of these results.\n",
    "\n",
    "*Note: We are using MacKinnon and White's (1985) HC3 heteroskedasticity robust covariance estimator*"
   ]
  },
  {
   "cell_type": "code",
   "execution_count": 36,
   "metadata": {},
   "outputs": [],
   "source": [
    "# Loading the libraries we will use and setting global options\n",
    "\n",
    "# Data manipulation and math/stats functions\n",
    "import numpy as np\n",
    "np.set_printoptions(suppress=True)\n",
    "import pandas as pd\n",
    "import statsmodels.api as sm\n",
    "#!pip install linearmodels\n",
    "from linearmodels.iv import IV2SLS \n",
    "\n",
    "# Plotting preferences\n",
    "%matplotlib inline\n",
    "%config InlineBackend.figure_format = 'retina'\n",
    "import matplotlib.pyplot as plt\n",
    "import matplotlib.mlab as mlab\n",
    "import seaborn as sns\n",
    "\n",
    "# Suppressing warnings\n",
    "import warnings\n",
    "warnings.simplefilter(action = \"ignore\")\n",
    "\n",
    "# Import self-made functions\n",
    "from p3functions import *"
   ]
  },
  {
   "cell_type": "code",
   "execution_count": 37,
   "metadata": {},
   "outputs": [],
   "source": [
    "# Loading the data\n",
    "student_perf = pd.read_pickle('data/student_por_v2.pkl')"
   ]
  },
  {
   "cell_type": "code",
   "execution_count": 38,
   "metadata": {},
   "outputs": [],
   "source": [
    "# Data formatting - converting strings to indicators\n",
    "indicator_names = {\n",
    "    'school_GP': ('school', 'GP'),\n",
    "    'male': ('sex', 'M'),\n",
    "    'urban': ('address', 'U'),\n",
    "    'fam_small': ('famsize', 'LE3'),\n",
    "    'fam_split': ('Pstatus', 'A'),\n",
    "    'no_parent': ('guardian', 'other'),\n",
    "    'father': ('guardian', 'father'),\n",
    "    'mother': ('guardian', 'mother'),\n",
    "    'school_sup': ('schoolsup', 'yes'),\n",
    "    'famsup': ('famsup', 'yes'),\n",
    "    'paid': ('paid', 'yes'),\n",
    "    'activities': ('activities', 'yes'),\n",
    "    'nursery': ('nursery', 'yes'),\n",
    "    'higher': ('higher', 'yes'),\n",
    "    'internet': ('internet', 'yes'),\n",
    "    'romantic': ('romantic', 'yes')\n",
    "}\n",
    "make_indicators(student_perf, indicator_names)\n",
    "\n",
    "# Converting G3 to percent\n",
    "student_perf['G3_perc'] = student_perf.G3 / 12"
   ]
  },
  {
   "cell_type": "code",
   "execution_count": 42,
   "metadata": {},
   "outputs": [
    {
     "name": "stdout",
     "output_type": "stream",
     "text": [
      "                            OLS Regression Results                            \n",
      "==============================================================================\n",
      "Dep. Variable:                G3_perc   R-squared:                       0.347\n",
      "Model:                            OLS   Adj. R-squared:                  0.317\n",
      "Method:                 Least Squares   F-statistic:                     648.2\n",
      "Date:                Wed, 06 Dec 2017   Prob (F-statistic):               0.00\n",
      "Time:                        14:54:49   Log-Likelihood:                 69.417\n",
      "No. Observations:                 649   AIC:                            -80.83\n",
      "Df Residuals:                     620   BIC:                             48.95\n",
      "Df Model:                          28                                         \n",
      "Covariance Type:                  HC3                                         \n",
      "==============================================================================\n",
      "                 coef    std err          z      P>|z|      [0.025      0.975]\n",
      "------------------------------------------------------------------------------\n",
      "const          0.4336      0.121      3.572      0.000       0.196       0.672\n",
      "studytime      0.0320      0.011      3.027      0.002       0.011       0.053\n",
      "school_GP      0.1119      0.025      4.535      0.000       0.064       0.160\n",
      "male          -0.0504      0.022     -2.251      0.024      -0.094      -0.007\n",
      "age            0.0137      0.009      1.606      0.108      -0.003       0.030\n",
      "urban          0.0260      0.024      1.092      0.275      -0.021       0.073\n",
      "fam_small      0.0271      0.020      1.369      0.171      -0.012       0.066\n",
      "fam_split     -0.0101      0.028     -0.361      0.718      -0.065       0.045\n",
      "Medu           0.0153      0.012      1.230      0.219      -0.009       0.040\n",
      "Fedu           0.0149      0.012      1.286      0.198      -0.008       0.038\n",
      "no_parent      0.1597      0.055      2.889      0.004       0.051       0.268\n",
      "mother         0.1233      0.041      2.993      0.003       0.043       0.204\n",
      "father         0.1506      0.039      3.909      0.000       0.075       0.226\n",
      "traveltime     0.0059      0.013      0.439      0.661      -0.021       0.032\n",
      "freetime      -0.0092      0.010     -0.953      0.340      -0.028       0.010\n",
      "failures      -0.1177      0.018     -6.587      0.000      -0.153      -0.083\n",
      "school_sup    -0.1081      0.030     -3.567      0.000      -0.168      -0.049\n",
      "famsup         0.0024      0.019      0.122      0.903      -0.035       0.040\n",
      "paid          -0.0417      0.036     -1.172      0.241      -0.111       0.028\n",
      "activities     0.0223      0.019      1.150      0.250      -0.016       0.060\n",
      "nursery       -0.0187      0.024     -0.778      0.436      -0.066       0.028\n",
      "higher         0.1487      0.032      4.610      0.000       0.085       0.212\n",
      "internet       0.0233      0.024      0.963      0.335      -0.024       0.071\n",
      "romantic      -0.0363      0.020     -1.837      0.066      -0.075       0.002\n",
      "famrel         0.0097      0.010      0.944      0.345      -0.010       0.030\n",
      "goout         -0.0046      0.009     -0.492      0.622      -0.023       0.014\n",
      "Dalc          -0.0219      0.016     -1.346      0.178      -0.054       0.010\n",
      "Walc          -0.0078      0.010     -0.779      0.436      -0.028       0.012\n",
      "health        -0.0144      0.007     -2.212      0.027      -0.027      -0.002\n",
      "absences      -0.0032      0.002     -1.498      0.134      -0.007       0.001\n",
      "==============================================================================\n",
      "Omnibus:                      124.882   Durbin-Watson:                   1.896\n",
      "Prob(Omnibus):                  0.000   Jarque-Bera (JB):              399.581\n",
      "Skew:                          -0.904   Prob(JB):                     1.71e-87\n",
      "Kurtosis:                       6.392   Cond. No.                     4.39e+16\n",
      "==============================================================================\n",
      "\n",
      "Warnings:\n",
      "[1] Standard Errors are heteroscedasticity robust (HC3)\n",
      "[2] The smallest eigenvalue is 1.27e-28. This might indicate that there are\n",
      "strong multicollinearity problems or that the design matrix is singular.\n"
     ]
    }
   ],
   "source": [
    "# Running the OLS model\n",
    "Y = student_perf.G3_perc\n",
    "X = student_perf[['studytime', 'school_GP', 'male', 'age', 'urban', 'fam_small', 'fam_split', 'Medu', 'Fedu', 'no_parent','mother', 'father', 'traveltime', 'freetime', 'failures', 'school_sup', 'famsup', 'paid', 'activities', 'nursery', 'higher', 'internet', 'romantic', 'famrel', 'goout', 'Dalc', 'Walc', 'health', 'absences']]\n",
    "X = sm.add_constant(X)\n",
    "model = sm.OLS(Y, X)\n",
    "results = model.fit(cov_type='HC3')\n",
    "print(results.summary())"
   ]
  },
  {
   "cell_type": "markdown",
   "metadata": {},
   "source": [
    "These results suggest that within this population, an additional hour of studying per week would \"result\" in an increase of 3 percentage points to the final grade (with high statistical significance). But this conclusion is not necessarily the correct one.\n",
    "\n",
    "Many of the coefficients are not statistically significant, and our X matrix is close to singular (suggesting a problem with multicollinearity as `statsmodels.api` explains). While this is not necessarily a cause for concern, it might cast some suspicion on the results.\n",
    "\n",
    "This result is unsurprising because in this regression we include proxies to represent unobserved ability, and include our variable of interest, hours of studying. This set up makes the implicit assumption that hours of studying and ability are independent. Unforunately, the validity of this assumption is questionable. It is certainly plausible that students with higher abilities enjoy studying more (perahps because they find it less difficult), suggesting that they will have a less negative coefficient on studying in their utility maximizations, leading them to study for longer. So the assumption that hours of studying and ability are independent is quite strong, and not necessarily valid. Violation of this assumption would suggest that the dependence between ability and studying is a source of serious multicollinearity. On the other hand, our low $\\mathrm{R}^2$ suggests that multicollinearity might not be an issue here; and that we probably just need more data. We could try to address this potential multicollinearity by dropping some variables, but generally it is better to report the full model and point out the potential issue. We don't usually drop variables because that could cause a more agregious problem through confounding effects. The ideal solution here would be to collect more data, but that is not a possibility. While multicollinearity might be present, we can't do much about it.\n",
    "\n",
    "There is another, more serious, issue with this naive approach of running an OLS fit on the data - endogeneity. In our model we have attempted to use proxies to identify ability, but what if our proxies are not fully identifying ability?  Then clearly the covariance between our $x_k$'s and the error terms is non-zero: we have endogenous variables. This endogeneity means that OLS is not a consistent estimator for our vector of $\\beta$'s! We have the following:\n",
    "$$\n",
    "\\mathrm{b}_k \\stackrel{p}{\\longrightarrow} \\beta_k + \\gamma \\frac{\\mathrm{Cov}[q, x_k]}{\\mathrm{Var}[x_k]}\n",
    "$$\n",
    "Where $q$ is the unidentified portion of ability, $\\gamma$ is the true coefficient on $q$ (if we could identify it), $\\mathrm{b}_k$ is the OLS estimated coefficient on $x_k$, and $\\beta_k$ is the true coefficient on $x_k$. Notice that $q$ is determined by how well our proxies identify ability. The better our proxies identify ability, the smaller the bias term $\\gamma \\frac{\\mathrm{Cov}[q, x_k]}{\\mathrm{Var}[x_k]}$ will be (with bias arising from our endogeneity problem).\n",
    "\n",
    "In many settings, researchers assume that $\\mathrm{Cov}[q, x_k] = 0$ except for the variable of interest (in our case, hours of studying). This is also a plausible assumption in our setting; even more so when we consider that we already determined that study time and ability might be dependent (and that part of ability is in the error term). So we have simplified our problem to identification of the true coefficient on the endogenous variable hours of studying. We should note that since we do not know what part of \"ability\" is being omitted, we cannot make any guesses about which way our OLS estimated coefficient is biased (because we can't determine the sign of $\\mathrm{Cov}[q, studying]$ )."
   ]
  },
  {
   "cell_type": "code",
   "execution_count": 43,
   "metadata": {},
   "outputs": [],
   "source": [
    "#Saving our cleaned dataset and results of our Naive OLS fit\n",
    "student_perf.to_pickle('data/student_por_v3.pkl')\n",
    "results.save('results/Naive_OLS.pickle')"
   ]
  }
 ],
 "metadata": {
  "kernelspec": {
   "display_name": "Python 3",
   "language": "python",
   "name": "python3"
  },
  "language_info": {
   "codemirror_mode": {
    "name": "ipython",
    "version": 3
   },
   "file_extension": ".py",
   "mimetype": "text/x-python",
   "name": "python",
   "nbconvert_exporter": "python",
   "pygments_lexer": "ipython3",
   "version": "3.6.1"
  }
 },
 "nbformat": 4,
 "nbformat_minor": 2
}
