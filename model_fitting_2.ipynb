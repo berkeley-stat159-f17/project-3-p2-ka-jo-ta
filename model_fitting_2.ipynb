{
 "cells": [
  {
   "cell_type": "code",
   "execution_count": 33,
   "metadata": {},
   "outputs": [],
   "source": [
    "# Loading the libraries we will use and setting global options\n",
    "\n",
    "# Data manipulation and math/stats functions\n",
    "import numpy as np\n",
    "np.set_printoptions(suppress=True)\n",
    "import pandas as pd\n",
    "import statsmodels.api as sm\n",
    "#!pip install linearmodels\n",
    "from linearmodels.iv import IV2SLS \n",
    "\n",
    "# Plotting preferences\n",
    "%matplotlib inline\n",
    "%config InlineBackend.figure_format = 'retina'\n",
    "import matplotlib.pyplot as plt\n",
    "import matplotlib.mlab as mlab\n",
    "import seaborn as sns\n",
    "\n",
    "# Suppressing warnings\n",
    "import warnings\n",
    "warnings.simplefilter(action = \"ignore\")\n",
    "\n",
    "# Import self-made functions\n",
    "from p3functions import *"
   ]
  },
  {
   "cell_type": "code",
   "execution_count": 34,
   "metadata": {},
   "outputs": [],
   "source": [
    "#Load in cleaned data and resutls from our naive OLS fit\n",
    "student_perf = pd.read_pickle('data/student_por_v3.pkl')\n",
    "naive_ols = sm.load('results/Naive_OLS.pickle')"
   ]
  },
  {
   "cell_type": "markdown",
   "metadata": {},
   "source": [
    "# Model Fitting\n",
    "\n",
    "### Addressing Endogeneity\n",
    "\n",
    "Now that we have identified our problem, we need to find a way to account for it. Specifically, we need to find one or more instruments for hours of studying. A good instrument, $z$, would have the following characteristics:\n",
    "* $\\mathrm{Cov}[z, studying] \\ne 0 \\ \\quad$ (hours of studying covaries with $z$)\n",
    "* $\\mathrm{Cov}[z, \\varepsilon] = 0 \\ \\ \\ \\quad\\quad\\quad$ ($z$ is exogenous)\n",
    "\n",
    "Finding valid instruments proves to be fairly challenging, because we can often imagine situations where a potential instrument is not valid. For example, we might be tempted to include `school_sup` (extra educational support) as an instrument because if someone is enrolled in extra support they will study more. But upon further thought, it seems likely that enrollment in tutoring is not independent of ability (perhaps high or low ability students are more likely to get tutored), meaning that perhaps `school_sup` covaries with the unidentified ability$^1$.\n",
    "\n",
    "After some thought I concluded that `school_GP` (which school the student is enrolled in), `goout` (how often the student goes out with friends), and `male` (indicator for male), are valid instruments for hours of studying. School enrollment can be a valid instrument because studying habits are often modelled in networks$^2$; when one student with high centrality increases their studying, connected students (friends or classmates) also increase their studying. It is easy to imagine that the two schools have friendship networks that have fewer heterophilic links than homophilic links, which implies that hours of studying covaries with enrollment through random perturbations in central students' studying habits. Frequency of going out is a valid instrument because it seems likely that most students go out with friends, and that students who go out more have less time to study. We can assume that going out and ability are independent because there is no reason to think that going out would covary with ability. Lastly, gender is a valid instrument for a similar reason to that of enrollment; male to male links (friendships) will be more common than male to female links, so if central males study less than central females, then we would expect males to study less than females on average (and vice versa).\n",
    "\n",
    "Now that we have some plausible instruments for our endogenous variable, we can run 2SLS to estimate the model. Note that we exclude `no_parent` (trying to address some multicollinearity from splitting categorical variables into multiple indicators) from the exogenous variables. We are again using a heteroskedasticity robust variance-covariance matrix estimator - because robustness can never hurt.\n",
    "\n",
    "-----\n",
    "1. Earlier we had assumed that all variables other than study time were exogenous, meaning that any of those variables that was correlated with study time would be a valid instrument. But the assumption we made was very weak, in reality we don't really care if variables other than study time are endogenous because we are not interested in the coefficient on these variables. So when we are thinking about constructing instruments for schooling we still need to critically consider the exogeneity of the instrument.\n",
    "2. This specific example is from Bryan Graham's course Econ 142 during a discussion of networks and centrality. "
   ]
  },
  {
   "cell_type": "code",
   "execution_count": 35,
   "metadata": {},
   "outputs": [
    {
     "name": "stdout",
     "output_type": "stream",
     "text": [
      "                          IV-2SLS Estimation Summary                          \n",
      "==============================================================================\n",
      "Dep. Variable:                G3_perc   R-squared:                      0.0697\n",
      "Estimator:                    IV-2SLS   Adj. R-squared:                 0.0324\n",
      "No. Observations:                 649   F-statistic:                    208.67\n",
      "Date:                Wed, Dec 06 2017   P-value (F-stat)                0.0000\n",
      "Time:                        16:33:58   Distribution:                 chi2(25)\n",
      "Cov. Estimator:                robust                                         \n",
      "                                                                              \n",
      "                             Parameter Estimates                              \n",
      "==============================================================================\n",
      "            Parameter  Std. Err.     T-stat    P-value    Lower CI    Upper CI\n",
      "------------------------------------------------------------------------------\n",
      "const          0.5048     0.2344     2.1535     0.0313      0.0454      0.9642\n",
      "age            0.0001     0.0118     0.0093     0.9926     -0.0230      0.0232\n",
      "urban          0.0399     0.0280     1.4280     0.1533     -0.0149      0.0947\n",
      "fam_small      0.0194     0.0225     0.8661     0.3864     -0.0246      0.0635\n",
      "fam_split     -0.0125     0.0316    -0.3961     0.6920     -0.0745      0.0495\n",
      "Medu           0.0107     0.0135     0.7933     0.4276     -0.0157      0.0371\n",
      "Fedu           0.0208     0.0141     1.4780     0.1394     -0.0068      0.0485\n",
      "mother        -0.0255     0.0473    -0.5396     0.5895     -0.1182      0.0672\n",
      "father        -0.0154     0.0502    -0.3060     0.7596     -0.1137      0.0830\n",
      "traveltime    -0.0003     0.0163    -0.0167     0.9867     -0.0322      0.0317\n",
      "freetime      -0.0104     0.0106    -0.9814     0.3264     -0.0312      0.0104\n",
      "failures      -0.0969     0.0252    -3.8420     0.0001     -0.1464     -0.0475\n",
      "school_sup    -0.1157     0.0412    -2.8090     0.0050     -0.1965     -0.0350\n",
      "famsup        -0.0306     0.0317    -0.9633     0.3354     -0.0928      0.0316\n",
      "paid          -0.0434     0.0454    -0.9557     0.3392     -0.1323      0.0456\n",
      "activities     0.0014     0.0262     0.0536     0.9573     -0.0500      0.0528\n",
      "nursery       -0.0237     0.0263    -0.9020     0.3671     -0.0754      0.0279\n",
      "higher         0.0944     0.0579     1.6310     0.1029     -0.0190      0.2078\n",
      "internet       0.0365     0.0269     1.3552     0.1753     -0.0163      0.0893\n",
      "romantic      -0.0492     0.0228    -2.1597     0.0308     -0.0939     -0.0046\n",
      "famrel         0.0140     0.0133     1.0529     0.2924     -0.0121      0.0401\n",
      "Dalc          -0.0279     0.0173    -1.6163     0.1060     -0.0618      0.0059\n",
      "Walc           0.0071     0.0164     0.4316     0.6660     -0.0250      0.0392\n",
      "health        -0.0100     0.0074    -1.3417     0.1797     -0.0246      0.0046\n",
      "absences       0.0016     0.0030     0.5295     0.5965     -0.0043      0.0075\n",
      "studytime      0.2139     0.1132     1.8903     0.0587     -0.0079      0.4357\n",
      "==============================================================================\n",
      "\n",
      "Endogenous: studytime\n",
      "Instruments: goout, male\n",
      "Robust Covariance (Heteroskedastic)\n",
      "Debiased: False\n"
     ]
    }
   ],
   "source": [
    "# Running the 2SLS model\n",
    "\n",
    "# Dependent variable\n",
    "Y = student_perf.G3_perc\n",
    "\n",
    "# Exogenous variables\n",
    "X_exog = student_perf[['age', 'urban', 'fam_small', 'fam_split', 'Medu', 'Fedu', 'mother', 'father', 'traveltime', 'freetime', 'failures', 'school_sup', 'famsup', 'paid', 'activities', 'nursery', 'higher', 'internet', 'romantic', 'famrel', 'Dalc', 'Walc', 'health', 'absences']]\n",
    "X_exog = sm.add_constant(X_exog)\n",
    "\n",
    "# Endogenous variable\n",
    "X_endog = student_perf.studytime\n",
    "\n",
    "# Instruments\n",
    "Z = student_perf[['goout', 'male']]\n",
    "\n",
    "model = IV2SLS(Y, X_exog, X_endog, Z)\n",
    "results = model.fit()\n",
    "print(results.summary)"
   ]
  },
  {
   "cell_type": "markdown",
   "metadata": {},
   "source": [
    "These results are very encouraging. Usually we expect the significance of the coefficients to decrease for almost all the variables in a 2SLS model compared to the analog OLS model. In our 2SLS fit we find that most of the coefficients are indeed less significant, but that the coefficient on study time is actually more significant by an order of magnitude (0.0003 vs 0.002)! Not only that, but the coefficient itself is an order of magnitude larger (0.36 vs 0.03)! The increase in significance of the coefficient on our endogenous variable is highly suggestive that we have good instruments, and better identification of the marginal effect of studying on grades. \n",
    "\n",
    "One item to note is that in the 2SLS fit, our value for $R^2$ is negative. It turns out that in 2SLS (and 3SLS), a negative $R^2$ is not usually a cause for concern. In instrumental variable models we are more interested in the standard error and significance level on the coefficient of our endogenous variable. And in our fit, the coefficient is highly significant. For a more in depth analysis of the negative $R^2$ phenomenon, Stata documention provides a good explanation [here](http://www.stata.com/support/faqs/statistics/two-stage-least-squares/ \"2SLS R^2\")."
   ]
  },
  {
   "cell_type": "code",
   "execution_count": 28,
   "metadata": {},
   "outputs": [],
   "source": [
    "import pickle\n",
    "with open('results/2SLS.pkl','wb') as f:\n",
    "    pickle.dump(results,f)"
   ]
  },
  {
   "cell_type": "code",
   "execution_count": null,
   "metadata": {},
   "outputs": [],
   "source": []
  }
 ],
 "metadata": {
  "kernelspec": {
   "display_name": "Python 3",
   "language": "python",
   "name": "python3"
  },
  "language_info": {
   "codemirror_mode": {
    "name": "ipython",
    "version": 3
   },
   "file_extension": ".py",
   "mimetype": "text/x-python",
   "name": "python",
   "nbconvert_exporter": "python",
   "pygments_lexer": "ipython3",
   "version": "3.6.1"
  }
 },
 "nbformat": 4,
 "nbformat_minor": 2
}
