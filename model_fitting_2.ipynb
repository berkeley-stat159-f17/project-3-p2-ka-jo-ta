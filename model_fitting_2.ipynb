{
 "cells": [
  {
   "cell_type": "code",
   "execution_count": 1,
   "metadata": {},
   "outputs": [
    {
     "name": "stderr",
     "output_type": "stream",
     "text": [
      "/Users/nadavtadelis/anaconda/lib/python3.6/site-packages/statsmodels/compat/pandas.py:56: FutureWarning: The pandas.core.datetools module is deprecated and will be removed in a future version. Please use the pandas.tseries module instead.\n",
      "  from pandas.core import datetools\n"
     ]
    }
   ],
   "source": [
    "# Loading the libraries we will use and setting global options\n",
    "\n",
    "# Data manipulation and math/stats functions\n",
    "import numpy as np\n",
    "np.set_printoptions(suppress=True)\n",
    "import pandas as pd\n",
    "import statsmodels.api as sm\n",
    "#!pip install linearmodels\n",
    "from linearmodels.iv import IV2SLS \n",
    "\n",
    "# Plotting preferences\n",
    "%matplotlib inline\n",
    "%config InlineBackend.figure_format = 'retina'\n",
    "import matplotlib.pyplot as plt\n",
    "import matplotlib.mlab as mlab\n",
    "import seaborn as sns\n",
    "\n",
    "# Suppressing warnings\n",
    "import warnings\n",
    "warnings.simplefilter(action = \"ignore\")\n",
    "\n",
    "# Import self-made functions\n",
    "from p3functions import *"
   ]
  },
  {
   "cell_type": "code",
   "execution_count": 2,
   "metadata": {
    "collapsed": true
   },
   "outputs": [],
   "source": [
    "#Load in cleaned data and resutls from our naive OLS fit\n",
    "student_perf = pd.read_pickle('data/student_por_v3.pkl')\n",
    "naive_ols = sm.load('results/Naive_OLS.pickle')"
   ]
  },
  {
   "cell_type": "markdown",
   "metadata": {},
   "source": [
    "# Model Fitting\n",
    "\n",
    "### Addressing Endogeneity\n",
    "\n",
    "Now that we have identified our problem, we need to find a way to account for it. Specifically, we need to find one or more instruments for hours of studying. A good instrument, $z$, would have the following characteristics:\n",
    "* $\\mathrm{Cov}[z, studying] \\ne 0 \\ \\quad$ (hours of studying covaries with $z$)\n",
    "* $\\mathrm{Cov}[z, \\varepsilon] = 0 \\ \\ \\ \\quad\\quad\\quad$ ($z$ is exogenous)\n",
    "\n",
    "Finding valid instruments proves to be fairly challenging, because we can often imagine situations where a potential instrument is not valid. For example, we might be tempted to include `school_sup` (extra educational support) as an instrument because if someone is enrolled in extra support they will study more. But upon further thought, it seems likely that enrollment in tutoring is not independent of ability (perhaps high or low ability students are more likely to get tutored), meaning that perhaps `school_sup` covaries with the unidentified ability$^1$.\n",
    "\n",
    "After some thought I concluded that `school_GP` (which school the student is enrolled in), `goout` (how often the student goes out with friends), and `male` (indicator for male), are valid instruments for hours of studying. School enrollment can be a valid instrument because studying habits are often modelled in networks$^2$; when one student with high centrality increases their studying, connected students (friends or classmates) also increase their studying. It is easy to imagine that the two schools have friendship networks that have fewer heterophilic links than homophilic links, which implies that hours of studying covaries with enrollment through random perturbations in central students' studying habits. Frequency of going out is a valid instrument because it seems likely that most students go out with friends, and that students who go out more have less time to study. We can assume that going out and ability are independent because there is no reason to think that going out would covary with ability. Lastly, gender is a valid instrument for a similar reason to that of enrollment; male to male links (friendships) will be more common than male to female links, so if central males study less than central females, then we would expect males to study less than females on average (and vice versa).\n",
    "\n",
    "Additionally we include a new artificial instrument which is derived from the two way frequency table we create in the data exploration notebook. We noticed that there were 149 students that chose their school based on it's proximity to their home, and that 49 of these students had a commute of more than 15 minutes - we create an indicator that indicates whether the observations is one of these 49 students. We argue that this is a valid instrument because those students have chosen a school based on its proximity, and their commute is fairly significant; taking time out of their day that could have been spent studying. We believe that the decrease in available study time arising from the increased commute is a decent instrument in our model.\n",
    "\n",
    "Now that we have some plausible instruments for our endogenous variable, we can run 2SLS to estimate the model. Note that we exclude `no_parent` (trying to address some multicollinearity from splitting categorical variables into multiple indicators) from the exogenous variables. We are again using a heteroskedasticity robust variance-covariance matrix estimator - because robustness can never hurt.\n",
    "\n",
    "-----\n",
    "1. Earlier we had assumed that all variables other than study time were exogenous, meaning that any of those variables that was correlated with study time would be a valid instrument. But the assumption we made was very weak, in reality we don't really care if variables other than study time are endogenous because we are not interested in the coefficient on these variables. So when we are thinking about constructing instruments for schooling we still need to critically consider the exogeneity of the instrument.\n",
    "2. This specific example is from Bryan Graham's course Econ 142 during a discussion of networks and centrality. "
   ]
  },
  {
   "cell_type": "code",
   "execution_count": 5,
   "metadata": {},
   "outputs": [
    {
     "name": "stdout",
     "output_type": "stream",
     "text": [
      "                          IV-2SLS Estimation Summary                          \n",
      "==============================================================================\n",
      "Dep. Variable:                G3_perc   R-squared:                      0.0431\n",
      "Estimator:                    IV-2SLS   Adj. R-squared:                 0.0031\n",
      "No. Observations:                 649   F-statistic:                    232.05\n",
      "Date:                Wed, Dec 06 2017   P-value (F-stat)                0.0000\n",
      "Time:                        17:09:25   Distribution:                 chi2(26)\n",
      "Cov. Estimator:                robust                                         \n",
      "                                                                              \n",
      "                             Parameter Estimates                              \n",
      "==============================================================================\n",
      "            Parameter  Std. Err.     T-stat    P-value    Lower CI    Upper CI\n",
      "------------------------------------------------------------------------------\n",
      "const          0.4534     0.2234     2.0293     0.0424      0.0155      0.8914\n",
      "age            0.0005     0.0119     0.0443     0.9647     -0.0228      0.0239\n",
      "urban          0.0207     0.0270     0.7658     0.4438     -0.0323      0.0736\n",
      "fam_small      0.0211     0.0229     0.9217     0.3567     -0.0238      0.0659\n",
      "fam_split     -0.0110     0.0314    -0.3493     0.7268     -0.0726      0.0506\n",
      "school_GP      0.0688     0.0341     2.0181     0.0436      0.0020      0.1356\n",
      "Medu           0.0072     0.0137     0.5249     0.5997     -0.0197      0.0341\n",
      "Fedu           0.0202     0.0143     1.4108     0.1583     -0.0079      0.0482\n",
      "mother        -0.0146     0.0467    -0.3134     0.7540     -0.1061      0.0769\n",
      "father        -0.0002     0.0502    -0.0035     0.9972     -0.0985      0.0981\n",
      "traveltime     0.0037     0.0163     0.2242     0.8226     -0.0283      0.0356\n",
      "freetime      -0.0090     0.0107    -0.8403     0.4007     -0.0298      0.0119\n",
      "failures      -0.0920     0.0237    -3.8883     0.0001     -0.1384     -0.0456\n",
      "school_sup    -0.1306     0.0402    -3.2503     0.0012     -0.2093     -0.0518\n",
      "famsup        -0.0336     0.0310    -1.0862     0.2774     -0.0943      0.0271\n",
      "paid          -0.0397     0.0465    -0.8532     0.3935     -0.1309      0.0515\n",
      "activities    -0.0049     0.0255    -0.1939     0.8462     -0.0548      0.0450\n",
      "nursery       -0.0217     0.0269    -0.8075     0.4194     -0.0744      0.0310\n",
      "higher         0.0843     0.0544     1.5504     0.1210     -0.0223      0.1909\n",
      "internet       0.0266     0.0273     0.9755     0.3293     -0.0268      0.0800\n",
      "romantic      -0.0462     0.0234    -1.9711     0.0487     -0.0921     -0.0003\n",
      "famrel         0.0133     0.0134     0.9939     0.3203     -0.0129      0.0395\n",
      "Dalc          -0.0263     0.0172    -1.5263     0.1269     -0.0601      0.0075\n",
      "Walc           0.0081     0.0156     0.5194     0.6035     -0.0225      0.0388\n",
      "health        -0.0110     0.0077    -1.4356     0.1511     -0.0260      0.0040\n",
      "absences       0.0007     0.0032     0.2059     0.8369     -0.0056      0.0069\n",
      "studytime      0.2267     0.1046     2.1674     0.0302      0.0217      0.4317\n",
      "==============================================================================\n",
      "\n",
      "Endogenous: studytime\n",
      "Instruments: goout, male, artificial_instrument\n",
      "Robust Covariance (Heteroskedastic)\n",
      "Debiased: False\n"
     ]
    }
   ],
   "source": [
    "# Running the 2SLS model\n",
    "\n",
    "# Dependent variable\n",
    "Y = student_perf.G3_perc\n",
    "\n",
    "# Exogenous variables\n",
    "X_exog = student_perf[['age', 'urban', 'fam_small', 'fam_split', 'school_GP', 'Medu', 'Fedu', 'mother', 'father', 'traveltime', 'freetime', 'failures', 'school_sup', 'famsup', 'paid', 'activities', 'nursery', 'higher', 'internet', 'romantic', 'famrel', 'Dalc', 'Walc', 'health', 'absences']]\n",
    "X_exog = sm.add_constant(X_exog)\n",
    "\n",
    "# Endogenous variable\n",
    "X_endog = student_perf.studytime\n",
    "\n",
    "# Instruments\n",
    "student_perf['artificial_instrument'] = 1*(student_perf.reason == 'home')*1*(student_perf.traveltime > 1)\n",
    "Z = student_perf[['goout', 'male', 'artificial_instrument']]\n",
    "\n",
    "model = IV2SLS(Y, X_exog, X_endog, Z)\n",
    "results = model.fit()\n",
    "print(results.summary)"
   ]
  },
  {
   "cell_type": "markdown",
   "metadata": {},
   "source": [
    "These results are very encouraging. Usually we expect the significance of the coefficients to decrease for almost all the variables in a 2SLS model compared to the analog OLS model. In our 2SLS fit we find that most of the coefficients are indeed less significant, but that the coefficient on study time is actually more significant by an order of magnitude (0.0003 vs 0.002)! Not only that, but the coefficient itself is an order of magnitude larger (0.36 vs 0.03)! The increase in significance of the coefficient on our endogenous variable is highly suggestive that we have good instruments, and better identification of the marginal effect of studying on grades. \n",
    "\n",
    "One item to note is that in the 2SLS fit, our value for $R^2$ is negative. It turns out that in 2SLS (and 3SLS), a negative $R^2$ is not usually a cause for concern. In instrumental variable models we are more interested in the standard error and significance level on the coefficient of our endogenous variable. And in our fit, the coefficient is highly significant. For a more in depth analysis of the negative $R^2$ phenomenon, Stata documention provides a good explanation [here](http://www.stata.com/support/faqs/statistics/two-stage-least-squares/ \"2SLS R^2\")."
   ]
  },
  {
   "cell_type": "code",
   "execution_count": 24,
   "metadata": {},
   "outputs": [
    {
     "ename": "AttributeError",
     "evalue": "'IVResults' object has no attribute 'save'",
     "output_type": "error",
     "traceback": [
      "\u001b[0;31m---------------------------------------------------------------------------\u001b[0m",
      "\u001b[0;31mAttributeError\u001b[0m                            Traceback (most recent call last)",
      "\u001b[0;32m<ipython-input-24-cf925ccb5289>\u001b[0m in \u001b[0;36m<module>\u001b[0;34m()\u001b[0m\n\u001b[1;32m      1\u001b[0m \u001b[0;31m#Saving results of our 2SLS model\u001b[0m\u001b[0;34m\u001b[0m\u001b[0;34m\u001b[0m\u001b[0m\n\u001b[0;32m----> 2\u001b[0;31m \u001b[0mresults\u001b[0m\u001b[0;34m.\u001b[0m\u001b[0msave\u001b[0m\u001b[0;34m(\u001b[0m\u001b[0;34m'results/2SLS.pickle'\u001b[0m\u001b[0;34m)\u001b[0m\u001b[0;34m\u001b[0m\u001b[0m\n\u001b[0m",
      "\u001b[0;31mAttributeError\u001b[0m: 'IVResults' object has no attribute 'save'"
     ]
    }
   ],
   "source": [
    "#Saving results of our 2SLS model\n",
    "results.save('results/2SLS.pickle')"
   ]
  },
  {
   "cell_type": "code",
   "execution_count": 28,
   "metadata": {
    "collapsed": true
   },
   "outputs": [],
   "source": [
    "import pickle    \n",
    "with open('results/2SLS.pkl','wb') as f:\n",
    "    pickle.dump(results,f)"
   ]
  },
  {
   "cell_type": "code",
   "execution_count": 27,
   "metadata": {},
   "outputs": [
    {
     "ename": "AttributeError",
     "evalue": "'IVResults' object has no attribute 'to_pickle'",
     "output_type": "error",
     "traceback": [
      "\u001b[0;31m---------------------------------------------------------------------------\u001b[0m",
      "\u001b[0;31mAttributeError\u001b[0m                            Traceback (most recent call last)",
      "\u001b[0;32m<ipython-input-27-518f2a76585a>\u001b[0m in \u001b[0;36m<module>\u001b[0;34m()\u001b[0m\n\u001b[0;32m----> 1\u001b[0;31m \u001b[0mresults\u001b[0m\u001b[0;34m.\u001b[0m\u001b[0mto_pickle\u001b[0m\u001b[0;34m(\u001b[0m\u001b[0;34m'results/2SLS.pickle'\u001b[0m\u001b[0;34m)\u001b[0m\u001b[0;34m\u001b[0m\u001b[0m\n\u001b[0m",
      "\u001b[0;31mAttributeError\u001b[0m: 'IVResults' object has no attribute 'to_pickle'"
     ]
    }
   ],
   "source": [
    "results.to_pickle('results/2SLS.pickle')"
   ]
  },
  {
   "cell_type": "code",
   "execution_count": 31,
   "metadata": {
    "collapsed": true
   },
   "outputs": [],
   "source": [
    "with open('results/2SLS.pkl','rb') as f:\n",
    "    model_results = pickle.load(f)"
   ]
  },
  {
   "cell_type": "code",
   "execution_count": 32,
   "metadata": {},
   "outputs": [
    {
     "data": {
      "text/plain": [
       "const         0.504802\n",
       "age           0.000110\n",
       "urban         0.039935\n",
       "fam_small     0.019446\n",
       "fam_split    -0.012531\n",
       "Medu          0.010701\n",
       "Fedu          0.020835\n",
       "mother       -0.025518\n",
       "father       -0.015352\n",
       "traveltime   -0.000272\n",
       "freetime     -0.010403\n",
       "failures     -0.096921\n",
       "school_sup   -0.115723\n",
       "famsup       -0.030566\n",
       "paid         -0.043381\n",
       "activities    0.001406\n",
       "nursery      -0.023750\n",
       "higher        0.094381\n",
       "internet      0.036485\n",
       "romantic     -0.049226\n",
       "famrel        0.014016\n",
       "Dalc         -0.027947\n",
       "Walc          0.007068\n",
       "health       -0.009991\n",
       "absences      0.001596\n",
       "studytime     0.213904\n",
       "Name: parameter, dtype: float64"
      ]
     },
     "execution_count": 32,
     "metadata": {},
     "output_type": "execute_result"
    }
   ],
   "source": [
    "model_results.params"
   ]
  },
  {
   "cell_type": "code",
   "execution_count": null,
   "metadata": {
    "collapsed": true
   },
   "outputs": [],
   "source": []
  }
 ],
 "metadata": {
  "kernelspec": {
   "display_name": "Python 3",
   "language": "python",
   "name": "python3"
  },
  "language_info": {
   "codemirror_mode": {
    "name": "ipython",
    "version": 3
   },
   "file_extension": ".py",
   "mimetype": "text/x-python",
   "name": "python",
   "nbconvert_exporter": "python",
   "pygments_lexer": "ipython3",
   "version": "3.6.1"
  }
 },
 "nbformat": 4,
 "nbformat_minor": 2
}
