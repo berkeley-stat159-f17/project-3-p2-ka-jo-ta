{
 "cells": [
  {
   "cell_type": "code",
   "execution_count": 1,
   "metadata": {},
   "outputs": [
    {
     "name": "stderr",
     "output_type": "stream",
     "text": [
      "/Users/nadavtadelis/anaconda/lib/python3.6/site-packages/statsmodels/compat/pandas.py:56: FutureWarning: The pandas.core.datetools module is deprecated and will be removed in a future version. Please use the pandas.tseries module instead.\n",
      "  from pandas.core import datetools\n"
     ]
    }
   ],
   "source": [
    "# Loading the libraries we will use and setting global options\n",
    "\n",
    "# Data manipulation and math/stats functions\n",
    "import numpy as np\n",
    "np.set_printoptions(suppress=True)\n",
    "import pandas as pd\n",
    "import statsmodels.api as sm\n",
    "#!pip install linearmodels\n",
    "from linearmodels.iv import IV2SLS \n",
    "\n",
    "# Plotting preferences\n",
    "%matplotlib inline\n",
    "%config InlineBackend.figure_format = 'retina'\n",
    "import matplotlib.pyplot as plt\n",
    "import matplotlib.mlab as mlab\n",
    "import seaborn as sns\n",
    "\n",
    "# Suppressing warnings\n",
    "import warnings\n",
    "warnings.simplefilter(action = \"ignore\")\n",
    "\n",
    "# Import self-made functions\n",
    "from p3functions import *"
   ]
  },
  {
   "cell_type": "code",
   "execution_count": 2,
   "metadata": {
    "collapsed": true
   },
   "outputs": [],
   "source": [
    "#Load in cleaned data and resutls from our naive OLS fit\n",
    "student_perf = pd.read_pickle('data/student_por_v3.pkl')\n",
    "naive_ols = sm.load('results/Naive_OLS.pickle')"
   ]
  },
  {
   "cell_type": "markdown",
   "metadata": {},
   "source": [
    "# Model Fitting\n",
    "\n",
    "### Addressing Endogeneity\n",
    "\n",
    "Now that we have identified our problem, we need to find a way to account for it. Specifically, we need to find one or more instruments for hours of studying. A good instrument, $z$, would have the following characteristics:\n",
    "* $\\mathrm{Cov}[z, studying] \\ne 0 \\ \\quad$ (hours of studying covaries with $z$)\n",
    "* $\\mathrm{Cov}[z, \\varepsilon] = 0 \\ \\ \\ \\quad\\quad\\quad$ ($z$ is exogenous)\n",
    "\n",
    "Finding valid instruments proves to be fairly challenging, because we can often imagine situations where a potential instrument is not valid. For example, we might be tempted to include `school_sup` (extra educational support) as an instrument because if someone is enrolled in extra support they will study more. But upon further thought, it seems likely that enrollment in tutoring is not independent of ability (perhaps high or low ability students are more likely to get tutored), meaning that perhaps `school_sup` covaries with the unidentified ability$^1$.\n",
    "\n",
    "After some thought I concluded that `school_GP` (which school the student is enrolled in), `goout` (how often the student goes out with friends), and `male` (indicator for male), are valid instruments for hours of studying. School enrollment can be a valid instrument because studying habits are often modelled in networks$^2$; when one student with high centrality increases their studying, connected students (friends or classmates) also increase their studying. It is easy to imagine that the two schools have friendship networks that have fewer heterophilic links than homophilic links, which implies that hours of studying covaries with enrollment through random perturbations in central students' studying habits. Frequency of going out is a valid instrument because it seems likely that most students go out with friends, and that students who go out more have less time to study. We can assume that going out and ability are independent because there is no reason to think that going out would covary with ability. Lastly, gender is a valid instrument for a similar reason to that of enrollment; male to male links (friendships) will be more common than male to female links, so if central males study less than central females, then we would expect males to study less than females on average (and vice versa).\n",
    "\n",
    "Additionally we include a new artificial instrument which is derived from the two way frequency table we create in the data exploration notebook. We noticed that there were 149 students that chose their school based on it's proximity to their home, and that 49 of these students had a commute of more than 15 minutes - we create an indicator that indicates whether the observations is one of these 49 students. We argue that this is a valid instrument because those students have chosen a school based on its proximity, and their commute is fairly significant; taking time out of their day that could have been spent studying. We believe that the decrease in available study time arising from the increased commute is a decent instrument in our model.\n",
    "\n",
    "Now that we have some plausible instruments for our endogenous variable, we can run 2SLS to estimate the model. Note that we exclude `no_parent` (trying to address some multicollinearity from splitting categorical variables into multiple indicators) from the exogenous variables. We are again using a heteroskedasticity robust variance-covariance matrix estimator - because robustness can never hurt.\n",
    "\n",
    "-----\n",
    "1. Earlier we had assumed that all variables other than study time were exogenous, meaning that any of those variables that was correlated with study time would be a valid instrument. But the assumption we made was very weak, in reality we don't really care if variables other than study time are endogenous because we are not interested in the coefficient on these variables. So when we are thinking about constructing instruments for schooling we still need to critically consider the exogeneity of the instrument.\n",
    "2. This specific example is from Bryan Graham's course Econ 142 during a discussion of networks and centrality. "
   ]
  },
  {
   "cell_type": "code",
   "execution_count": 3,
   "metadata": {},
   "outputs": [
    {
     "name": "stdout",
     "output_type": "stream",
     "text": [
      "                          IV-2SLS Estimation Summary                          \n",
      "==============================================================================\n",
      "Dep. Variable:                G3_perc   R-squared:                      0.0953\n",
      "Estimator:                    IV-2SLS   Adj. R-squared:                 0.0590\n",
      "No. Observations:                 649   F-statistic:                    211.90\n",
      "Date:                Wed, Dec 06 2017   P-value (F-stat)                0.0000\n",
      "Time:                        16:59:36   Distribution:                 chi2(25)\n",
      "Cov. Estimator:                robust                                         \n",
      "                                                                              \n",
      "                             Parameter Estimates                              \n",
      "==============================================================================\n",
      "            Parameter  Std. Err.     T-stat    P-value    Lower CI    Upper CI\n",
      "------------------------------------------------------------------------------\n",
      "const          0.5119     0.2296     2.2294     0.0258      0.0619      0.9619\n",
      "age            0.0008     0.0115     0.0682     0.9456     -0.0217      0.0233\n",
      "urban          0.0406     0.0277     1.4667     0.1425     -0.0137      0.0949\n",
      "fam_small      0.0195     0.0221     0.8812     0.3782     -0.0238      0.0628\n",
      "fam_split     -0.0124     0.0312    -0.3965     0.6917     -0.0735      0.0488\n",
      "Medu           0.0110     0.0133     0.8314     0.4058     -0.0150      0.0370\n",
      "Fedu           0.0206     0.0139     1.4853     0.1375     -0.0066      0.0478\n",
      "mother        -0.0267     0.0462    -0.5788     0.5627     -0.1173      0.0638\n",
      "father        -0.0162     0.0492    -0.3290     0.7422     -0.1126      0.0802\n",
      "traveltime    -0.0004     0.0160    -0.0245     0.9804     -0.0318      0.0310\n",
      "freetime      -0.0106     0.0104    -1.0156     0.3098     -0.0311      0.0099\n",
      "failures      -0.0984     0.0245    -4.0121     0.0001     -0.1464     -0.0503\n",
      "school_sup    -0.1139     0.0402    -2.8342     0.0046     -0.1927     -0.0351\n",
      "famsup        -0.0285     0.0314    -0.9084     0.3637     -0.0901      0.0330\n",
      "paid          -0.0438     0.0444    -0.9869     0.3237     -0.1309      0.0432\n",
      "activities     0.0026     0.0260     0.1017     0.9190     -0.0483      0.0536\n",
      "nursery       -0.0236     0.0260    -0.9057     0.3651     -0.0746      0.0275\n",
      "higher         0.0978     0.0567     1.7241     0.0847     -0.0134      0.2090\n",
      "internet       0.0366     0.0265     1.3776     0.1683     -0.0155      0.0886\n",
      "romantic      -0.0486     0.0226    -2.1483     0.0317     -0.0929     -0.0043\n",
      "famrel         0.0137     0.0130     1.0560     0.2910     -0.0118      0.0393\n",
      "Dalc          -0.0280     0.0171    -1.6335     0.1024     -0.0615      0.0056\n",
      "Walc           0.0061     0.0159     0.3822     0.7023     -0.0251      0.0372\n",
      "health        -0.0102     0.0074    -1.3822     0.1669     -0.0246      0.0043\n",
      "absences       0.0014     0.0030     0.4882     0.6254     -0.0044      0.0072\n",
      "studytime      0.2046     0.1097     1.8651     0.0622     -0.0104      0.4197\n",
      "==============================================================================\n",
      "\n",
      "Endogenous: studytime\n",
      "Instruments: goout, male, artificial_instrument\n",
      "Robust Covariance (Heteroskedastic)\n",
      "Debiased: False\n"
     ]
    }
   ],
   "source": [
    "# Running the 2SLS model\n",
    "\n",
    "# Dependent variable\n",
    "Y = student_perf.G3_perc\n",
    "\n",
    "# Exogenous variables\n",
    "X_exog = student_perf[['age', 'urban', 'fam_small', 'fam_split', 'Medu', 'Fedu', 'mother', 'father', 'traveltime', 'freetime', 'failures', 'school_sup', 'famsup', 'paid', 'activities', 'nursery', 'higher', 'internet', 'romantic', 'famrel', 'Dalc', 'Walc', 'health', 'absences']]\n",
    "X_exog = sm.add_constant(X_exog)\n",
    "\n",
    "# Endogenous variable\n",
    "X_endog = student_perf.studytime\n",
    "\n",
    "# Instruments\n",
    "student_perf['artificial_instrument'] = 1*(student_perf.reason == 'home')*1*(student_perf.traveltime > 1)\n",
    "Z = student_perf[['goout', 'male', 'artificial_instrument']]\n",
    "\n",
    "model = IV2SLS(Y, X_exog, X_endog, Z)\n",
    "results = model.fit()\n",
    "print(results.summary)"
   ]
  },
  {
   "cell_type": "markdown",
   "metadata": {},
   "source": [
    "These results are very encouraging. Usually we expect the significance of the coefficients to decrease for almost all the variables in a 2SLS model compared to the analog OLS model. In our 2SLS fit we find that most of the coefficients are indeed less significant, but that the coefficient on study time is actually more significant by an order of magnitude (0.0003 vs 0.002)! Not only that, but the coefficient itself is an order of magnitude larger (0.36 vs 0.03)! The increase in significance of the coefficient on our endogenous variable is highly suggestive that we have good instruments, and better identification of the marginal effect of studying on grades. \n",
    "\n",
    "One item to note is that in the 2SLS fit, our value for $R^2$ is negative. It turns out that in 2SLS (and 3SLS), a negative $R^2$ is not usually a cause for concern. In instrumental variable models we are more interested in the standard error and significance level on the coefficient of our endogenous variable. And in our fit, the coefficient is highly significant. For a more in depth analysis of the negative $R^2$ phenomenon, Stata documention provides a good explanation [here](http://www.stata.com/support/faqs/statistics/two-stage-least-squares/ \"2SLS R^2\")."
   ]
  },
  {
   "cell_type": "code",
   "execution_count": 24,
   "metadata": {},
   "outputs": [
    {
     "ename": "AttributeError",
     "evalue": "'IVResults' object has no attribute 'save'",
     "output_type": "error",
     "traceback": [
      "\u001b[0;31m---------------------------------------------------------------------------\u001b[0m",
      "\u001b[0;31mAttributeError\u001b[0m                            Traceback (most recent call last)",
      "\u001b[0;32m<ipython-input-24-cf925ccb5289>\u001b[0m in \u001b[0;36m<module>\u001b[0;34m()\u001b[0m\n\u001b[1;32m      1\u001b[0m \u001b[0;31m#Saving results of our 2SLS model\u001b[0m\u001b[0;34m\u001b[0m\u001b[0;34m\u001b[0m\u001b[0m\n\u001b[0;32m----> 2\u001b[0;31m \u001b[0mresults\u001b[0m\u001b[0;34m.\u001b[0m\u001b[0msave\u001b[0m\u001b[0;34m(\u001b[0m\u001b[0;34m'results/2SLS.pickle'\u001b[0m\u001b[0;34m)\u001b[0m\u001b[0;34m\u001b[0m\u001b[0m\n\u001b[0m",
      "\u001b[0;31mAttributeError\u001b[0m: 'IVResults' object has no attribute 'save'"
     ]
    }
   ],
   "source": [
    "#Saving results of our 2SLS model\n",
    "results.save('results/2SLS.pickle')"
   ]
  },
  {
   "cell_type": "code",
   "execution_count": 28,
   "metadata": {
    "collapsed": true
   },
   "outputs": [],
   "source": [
    "import pickle    \n",
    "with open('results/2SLS.pkl','wb') as f:\n",
    "    pickle.dump(results,f)"
   ]
  },
  {
   "cell_type": "code",
   "execution_count": 27,
   "metadata": {},
   "outputs": [
    {
     "ename": "AttributeError",
     "evalue": "'IVResults' object has no attribute 'to_pickle'",
     "output_type": "error",
     "traceback": [
      "\u001b[0;31m---------------------------------------------------------------------------\u001b[0m",
      "\u001b[0;31mAttributeError\u001b[0m                            Traceback (most recent call last)",
      "\u001b[0;32m<ipython-input-27-518f2a76585a>\u001b[0m in \u001b[0;36m<module>\u001b[0;34m()\u001b[0m\n\u001b[0;32m----> 1\u001b[0;31m \u001b[0mresults\u001b[0m\u001b[0;34m.\u001b[0m\u001b[0mto_pickle\u001b[0m\u001b[0;34m(\u001b[0m\u001b[0;34m'results/2SLS.pickle'\u001b[0m\u001b[0;34m)\u001b[0m\u001b[0;34m\u001b[0m\u001b[0m\n\u001b[0m",
      "\u001b[0;31mAttributeError\u001b[0m: 'IVResults' object has no attribute 'to_pickle'"
     ]
    }
   ],
   "source": [
    "results.to_pickle('results/2SLS.pickle')"
   ]
  },
  {
   "cell_type": "code",
   "execution_count": 31,
   "metadata": {
    "collapsed": true
   },
   "outputs": [],
   "source": [
    "with open('results/2SLS.pkl','rb') as f:\n",
    "    model_results = pickle.load(f)"
   ]
  },
  {
   "cell_type": "code",
   "execution_count": 32,
   "metadata": {},
   "outputs": [
    {
     "data": {
      "text/plain": [
       "const         0.504802\n",
       "age           0.000110\n",
       "urban         0.039935\n",
       "fam_small     0.019446\n",
       "fam_split    -0.012531\n",
       "Medu          0.010701\n",
       "Fedu          0.020835\n",
       "mother       -0.025518\n",
       "father       -0.015352\n",
       "traveltime   -0.000272\n",
       "freetime     -0.010403\n",
       "failures     -0.096921\n",
       "school_sup   -0.115723\n",
       "famsup       -0.030566\n",
       "paid         -0.043381\n",
       "activities    0.001406\n",
       "nursery      -0.023750\n",
       "higher        0.094381\n",
       "internet      0.036485\n",
       "romantic     -0.049226\n",
       "famrel        0.014016\n",
       "Dalc         -0.027947\n",
       "Walc          0.007068\n",
       "health       -0.009991\n",
       "absences      0.001596\n",
       "studytime     0.213904\n",
       "Name: parameter, dtype: float64"
      ]
     },
     "execution_count": 32,
     "metadata": {},
     "output_type": "execute_result"
    }
   ],
   "source": [
    "model_results.params"
   ]
  },
  {
   "cell_type": "code",
   "execution_count": null,
   "metadata": {
    "collapsed": true
   },
   "outputs": [],
   "source": []
  }
 ],
 "metadata": {
  "kernelspec": {
   "display_name": "Python 3",
   "language": "python",
   "name": "python3"
  },
  "language_info": {
   "codemirror_mode": {
    "name": "ipython",
    "version": 3
   },
   "file_extension": ".py",
   "mimetype": "text/x-python",
   "name": "python",
   "nbconvert_exporter": "python",
   "pygments_lexer": "ipython3",
   "version": "3.6.1"
  }
 },
 "nbformat": 4,
 "nbformat_minor": 2
}
