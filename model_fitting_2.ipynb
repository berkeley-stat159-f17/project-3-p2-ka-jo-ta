{
 "cells": [
  {
   "cell_type": "markdown",
   "metadata": {},
   "source": [
    "# Model Fitting II\n",
    "\n",
    "### Addressing Endogeneity\n",
    "\n",
    "To address the issue of endogeneity we need to find instruments for hours of studying that have the following characteristics:\n",
    "\n",
    "* $\\mathrm{Cov}[z, studying] \\ne 0 \\ \\quad$ (hours of studying covaries with $z$)\n",
    "* $\\mathrm{Cov}[z, \\varepsilon] = 0 \\ \\ \\ \\quad\\quad\\quad$ ($z$ is exogenous)\n",
    "\n",
    "Looking at the variables in our dataset, `school_GP`, `goout`, and `male` are valid instrument we can use for our analysis. In addition, based off our two way frequency table we found that 49 people stated they had picked the school because of its proximity to home and that they had a communte time greater than 15 minutes. This subset eliminates people that may have picked the school for reasons that may directly effect how much their test scores (e.g. Picking a school because of \"Courses\" might correlate with test scores) and only affects test scores indrectly through study time.\n",
    "\n",
    "Below we will use our instruments in a 2 stage least squares regression.\n"
   ]
  },
  {
   "cell_type": "code",
   "execution_count": 2,
   "metadata": {},
   "outputs": [],
   "source": [
    "# Loading the libraries we will use and setting global options\n",
    "\n",
    "# Data manipulation and math/stats functions\n",
    "import numpy as np\n",
    "np.set_printoptions(suppress=True)\n",
    "import pandas as pd\n",
    "import statsmodels.api as sm\n",
    "#!pip install linearmodels\n",
    "from linearmodels.iv import IV2SLS \n",
    "\n",
    "# Plotting preferences\n",
    "%matplotlib inline\n",
    "%config InlineBackend.figure_format = 'retina'\n",
    "import matplotlib.pyplot as plt\n",
    "import matplotlib.mlab as mlab\n",
    "import seaborn as sns\n",
    "\n",
    "# Suppressing warnings\n",
    "import warnings\n",
    "warnings.filterwarnings(action = \"ignore\")\n",
    "\n",
    "# Import self-made functions\n",
    "from p3functions import *"
   ]
  },
  {
   "cell_type": "code",
   "execution_count": 9,
   "metadata": {
    "collapsed": true
   },
   "outputs": [],
   "source": [
    "#Load in cleaned data and resutls from our naive OLS fit\n",
    "student_perf = pd.read_pickle('data/student_por_v3.pkl')\n",
    "naive_ols = sm.load('results/Naive_OLS.pickle')"
   ]
  },
  {
   "cell_type": "code",
   "execution_count": 8,
   "metadata": {},
   "outputs": [
    {
     "name": "stdout",
     "output_type": "stream",
     "text": [
      "                          IV-2SLS Estimation Summary                          \n",
      "==============================================================================\n",
      "Dep. Variable:                G3_perc   R-squared:                      0.0431\n",
      "Estimator:                    IV-2SLS   Adj. R-squared:                 0.0031\n",
      "No. Observations:                 649   F-statistic:                    232.05\n",
      "Date:                Wed, Dec 06 2017   P-value (F-stat)                0.0000\n",
      "Time:                        23:11:02   Distribution:                 chi2(26)\n",
      "Cov. Estimator:                robust                                         \n",
      "                                                                              \n",
      "                             Parameter Estimates                              \n",
      "==============================================================================\n",
      "            Parameter  Std. Err.     T-stat    P-value    Lower CI    Upper CI\n",
      "------------------------------------------------------------------------------\n",
      "const          0.4534     0.2234     2.0293     0.0424      0.0155      0.8914\n",
      "age            0.0005     0.0119     0.0443     0.9647     -0.0228      0.0239\n",
      "urban          0.0207     0.0270     0.7658     0.4438     -0.0323      0.0736\n",
      "fam_small      0.0211     0.0229     0.9217     0.3567     -0.0238      0.0659\n",
      "fam_split     -0.0110     0.0314    -0.3493     0.7268     -0.0726      0.0506\n",
      "school_GP      0.0688     0.0341     2.0181     0.0436      0.0020      0.1356\n",
      "Medu           0.0072     0.0137     0.5249     0.5997     -0.0197      0.0341\n",
      "Fedu           0.0202     0.0143     1.4108     0.1583     -0.0079      0.0482\n",
      "mother        -0.0146     0.0467    -0.3134     0.7540     -0.1061      0.0769\n",
      "father        -0.0002     0.0502    -0.0035     0.9972     -0.0985      0.0981\n",
      "traveltime     0.0037     0.0163     0.2242     0.8226     -0.0283      0.0356\n",
      "freetime      -0.0090     0.0107    -0.8403     0.4007     -0.0298      0.0119\n",
      "failures      -0.0920     0.0237    -3.8883     0.0001     -0.1384     -0.0456\n",
      "school_sup    -0.1306     0.0402    -3.2503     0.0012     -0.2093     -0.0518\n",
      "famsup        -0.0336     0.0310    -1.0862     0.2774     -0.0943      0.0271\n",
      "paid          -0.0397     0.0465    -0.8532     0.3935     -0.1309      0.0515\n",
      "activities    -0.0049     0.0255    -0.1939     0.8462     -0.0548      0.0450\n",
      "nursery       -0.0217     0.0269    -0.8075     0.4194     -0.0744      0.0310\n",
      "higher         0.0843     0.0544     1.5504     0.1210     -0.0223      0.1909\n",
      "internet       0.0266     0.0273     0.9755     0.3293     -0.0268      0.0800\n",
      "romantic      -0.0462     0.0234    -1.9711     0.0487     -0.0921     -0.0003\n",
      "famrel         0.0133     0.0134     0.9939     0.3203     -0.0129      0.0395\n",
      "Dalc          -0.0263     0.0172    -1.5263     0.1269     -0.0601      0.0075\n",
      "Walc           0.0081     0.0156     0.5194     0.6035     -0.0225      0.0388\n",
      "health        -0.0110     0.0077    -1.4356     0.1511     -0.0260      0.0040\n",
      "absences       0.0007     0.0032     0.2059     0.8369     -0.0056      0.0069\n",
      "studytime      0.2267     0.1046     2.1674     0.0302      0.0217      0.4317\n",
      "==============================================================================\n",
      "\n",
      "Endogenous: studytime\n",
      "Instruments: goout, male, artificial_instrument\n",
      "Robust Covariance (Heteroskedastic)\n",
      "Debiased: False\n"
     ]
    }
   ],
   "source": [
    "# Running the 2SLS model\n",
    "\n",
    "# Dependent variable\n",
    "Y = student_perf.G3_perc\n",
    "\n",
    "# Exogenous variables\n",
    "X_exog = student_perf[['age', 'urban', 'fam_small', 'fam_split', 'school_GP', 'Medu', 'Fedu', 'mother', 'father', 'traveltime', 'freetime', 'failures', 'school_sup', 'famsup', 'paid', 'activities', 'nursery', 'higher', 'internet', 'romantic', 'famrel', 'Dalc', 'Walc', 'health', 'absences']]\n",
    "X_exog = sm.add_constant(X_exog)\n",
    "\n",
    "# Endogenous variable\n",
    "X_endog = student_perf.studytime\n",
    "\n",
    "# Instruments\n",
    "student_perf['artificial_instrument'] = 1*(student_perf.reason == 'home')*1*(student_perf.traveltime > 1)\n",
    "Z = student_perf[['goout', 'male', 'artificial_instrument']]\n",
    "\n",
    "model = IV2SLS(Y, X_exog, X_endog, Z)\n",
    "results = model.fit()\n",
    "print(results.summary)"
   ]
  },
  {
   "cell_type": "code",
   "execution_count": 16,
   "metadata": {},
   "outputs": [
    {
     "data": {
      "text/plain": [
       "0.22334223263062752"
      ]
     },
     "execution_count": 16,
     "metadata": {},
     "output_type": "execute_result"
    }
   ],
   "source": [
    "np.mean(naive_ols.pvalues)"
   ]
  },
  {
   "cell_type": "code",
   "execution_count": 17,
   "metadata": {},
   "outputs": [
    {
     "data": {
      "text/plain": [
       "0.40060336984890871"
      ]
     },
     "execution_count": 17,
     "metadata": {},
     "output_type": "execute_result"
    }
   ],
   "source": [
    "np.mean(results.pvalues)"
   ]
  },
  {
   "cell_type": "code",
   "execution_count": 28,
   "metadata": {
    "collapsed": true
   },
   "outputs": [],
   "source": [
    "#saving 2 way SLS model to our results directory\n",
    "import pickle\n",
    "with open('results/2SLS.pkl','wb') as f:\n",
    "    pickle.dump(results,f)"
   ]
  }
 ],
 "metadata": {
  "kernelspec": {
   "display_name": "Python 3",
   "language": "python",
   "name": "python3"
  },
  "language_info": {
   "codemirror_mode": {
    "name": "ipython",
    "version": 3
   },
   "file_extension": ".py",
   "mimetype": "text/x-python",
   "name": "python",
   "nbconvert_exporter": "python",
   "pygments_lexer": "ipython3",
   "version": "3.6.1"
  }
 },
 "nbformat": 4,
 "nbformat_minor": 2
}
