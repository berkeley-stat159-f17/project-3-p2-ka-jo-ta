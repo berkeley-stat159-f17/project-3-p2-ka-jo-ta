{
 "cells": [
  {
   "cell_type": "markdown",
   "metadata": {},
   "source": [
    "# Model Fitting\n",
    "\n",
    "We want to find the causal effect of studying on grades, so we will be using some econometric techniques, focusing on causal inference. We will first run a naive OLS fit, and then demonstrate why it is inappropriate in this context.\n",
    "\n",
    "### Naive OLS Fit\n",
    "\n",
    "The naive approach would be to use these data to fit a \"kitchen sink\" OLS regression to the data. So lets see what this regression would yield, and then address the plausibility of these results.\n",
    "\n",
    "*Note: We are using MacKinnon and White's (1985) HC3 heteroskedasticity robust covariance estimator*"
   ]
  },
  {
   "cell_type": "code",
   "execution_count": 10,
   "metadata": {
    "collapsed": true
   },
   "outputs": [],
   "source": [
    "# Loading the libraries we will use and setting global options\n",
    "\n",
    "# Data manipulation and math/stats functions\n",
    "import numpy as np\n",
    "np.set_printoptions(suppress=True)\n",
    "import pandas as pd\n",
    "import statsmodels.api as sm\n",
    "#!pip install linearmodels\n",
    "from linearmodels.iv import IV2SLS \n",
    "\n",
    "# Plotting preferences\n",
    "%matplotlib inline\n",
    "%config InlineBackend.figure_format = 'retina'\n",
    "import matplotlib.pyplot as plt\n",
    "import matplotlib.mlab as mlab\n",
    "import seaborn as sns\n",
    "\n",
    "# Suppressing warnings\n",
    "import warnings\n",
    "warnings.simplefilter(action = \"ignore\")"
   ]
  },
  {
   "cell_type": "code",
   "execution_count": 11,
   "metadata": {
    "collapsed": true
   },
   "outputs": [],
   "source": [
    "# Loading the data\n",
    "student_perf = pd.read_pickle('data/student_por_v2.pkl')\n",
    "\n",
    "# Data formatting - converting strings to indicators\n",
    "student_perf['school_GP']  = 1*(student_perf.school == 'GP')\n",
    "student_perf['male']       = 1*(student_perf.sex == 'M')\n",
    "student_perf['urban']      = 1*(student_perf.address == 'U')\n",
    "student_perf['fam_small']  = 1*(student_perf.famsize == 'LE3')\n",
    "student_perf['fam_split']  = 1*(student_perf.Pstatus == 'A')\n",
    "student_perf['no_parent']  = 1*(student_perf.guardian == 'other')\n",
    "student_perf['father']     = 1*(student_perf.guardian == 'father')\n",
    "student_perf['mother']     = 1*(student_perf.guardian == 'mother')\n",
    "student_perf['school_sup'] = 1*(student_perf.schoolsup == 'yes')\n",
    "student_perf['famsup']     = 1*(student_perf.famsup == 'yes')\n",
    "student_perf['paid']       = 1*(student_perf.paid == 'yes')\n",
    "student_perf['activities'] = 1*(student_perf.activities == 'yes')\n",
    "student_perf['nursery']    = 1*(student_perf.nursery == 'yes')\n",
    "student_perf['higher']     = 1*(student_perf.higher == 'yes')\n",
    "student_perf['internet']   = 1*(student_perf.internet == 'yes')\n",
    "student_perf['romantic']   = 1*(student_perf.romantic == 'yes')\n",
    "\n",
    "# Converting G3 to percent\n",
    "student_perf['G3_perc']    = student_perf.G3 / 12"
   ]
  },
  {
   "cell_type": "code",
   "execution_count": 12,
   "metadata": {},
   "outputs": [
    {
     "name": "stdout",
     "output_type": "stream",
     "text": [
      "                            OLS Regression Results                            \n",
      "==============================================================================\n",
      "Dep. Variable:                G3_perc   R-squared:                       0.347\n",
      "Model:                            OLS   Adj. R-squared:                  0.317\n",
      "Method:                 Least Squares   F-statistic:                     648.2\n",
      "Date:                Thu, 30 Nov 2017   Prob (F-statistic):               0.00\n",
      "Time:                        11:48:58   Log-Likelihood:                 69.417\n",
      "No. Observations:                 649   AIC:                            -80.83\n",
      "Df Residuals:                     620   BIC:                             48.95\n",
      "Df Model:                          28                                         \n",
      "Covariance Type:                  HC3                                         \n",
      "==============================================================================\n",
      "                 coef    std err          z      P>|z|      [0.025      0.975]\n",
      "------------------------------------------------------------------------------\n",
      "const          0.4336      0.121      3.572      0.000       0.196       0.672\n",
      "studytime      0.0320      0.011      3.027      0.002       0.011       0.053\n",
      "school_GP      0.1119      0.025      4.535      0.000       0.064       0.160\n",
      "male          -0.0504      0.022     -2.251      0.024      -0.094      -0.007\n",
      "age            0.0137      0.009      1.606      0.108      -0.003       0.030\n",
      "urban          0.0260      0.024      1.092      0.275      -0.021       0.073\n",
      "fam_small      0.0271      0.020      1.369      0.171      -0.012       0.066\n",
      "fam_split     -0.0101      0.028     -0.361      0.718      -0.065       0.045\n",
      "Medu           0.0153      0.012      1.230      0.219      -0.009       0.040\n",
      "Fedu           0.0149      0.012      1.286      0.198      -0.008       0.038\n",
      "no_parent      0.1597      0.055      2.889      0.004       0.051       0.268\n",
      "mother         0.1233      0.041      2.993      0.003       0.043       0.204\n",
      "father         0.1506      0.039      3.909      0.000       0.075       0.226\n",
      "traveltime     0.0059      0.013      0.439      0.661      -0.021       0.032\n",
      "freetime      -0.0092      0.010     -0.953      0.340      -0.028       0.010\n",
      "failures      -0.1177      0.018     -6.587      0.000      -0.153      -0.083\n",
      "school_sup    -0.1081      0.030     -3.567      0.000      -0.168      -0.049\n",
      "famsup         0.0024      0.019      0.122      0.903      -0.035       0.040\n",
      "paid          -0.0417      0.036     -1.172      0.241      -0.111       0.028\n",
      "activities     0.0223      0.019      1.150      0.250      -0.016       0.060\n",
      "nursery       -0.0187      0.024     -0.778      0.436      -0.066       0.028\n",
      "higher         0.1487      0.032      4.610      0.000       0.085       0.212\n",
      "internet       0.0233      0.024      0.963      0.335      -0.024       0.071\n",
      "romantic      -0.0363      0.020     -1.837      0.066      -0.075       0.002\n",
      "famrel         0.0097      0.010      0.944      0.345      -0.010       0.030\n",
      "goout         -0.0046      0.009     -0.492      0.622      -0.023       0.014\n",
      "Dalc          -0.0219      0.016     -1.346      0.178      -0.054       0.010\n",
      "Walc          -0.0078      0.010     -0.779      0.436      -0.028       0.012\n",
      "health        -0.0144      0.007     -2.212      0.027      -0.027      -0.002\n",
      "absences      -0.0032      0.002     -1.498      0.134      -0.007       0.001\n",
      "==============================================================================\n",
      "Omnibus:                      124.882   Durbin-Watson:                   1.896\n",
      "Prob(Omnibus):                  0.000   Jarque-Bera (JB):              399.581\n",
      "Skew:                          -0.904   Prob(JB):                     1.71e-87\n",
      "Kurtosis:                       6.392   Cond. No.                     4.39e+16\n",
      "==============================================================================\n",
      "\n",
      "Warnings:\n",
      "[1] Standard Errors are heteroscedasticity robust (HC3)\n",
      "[2] The smallest eigenvalue is 1.27e-28. This might indicate that there are\n",
      "strong multicollinearity problems or that the design matrix is singular.\n"
     ]
    }
   ],
   "source": [
    "# Running the OLS model\n",
    "Y = student_perf.G3_perc\n",
    "X = student_perf[['studytime', 'school_GP', 'male', 'age', 'urban', 'fam_small', 'fam_split', 'Medu', 'Fedu', 'no_parent','mother', 'father', 'traveltime', 'freetime', 'failures', 'school_sup', 'famsup', 'paid', 'activities', 'nursery', 'higher', 'internet', 'romantic', 'famrel', 'goout', 'Dalc', 'Walc', 'health', 'absences']]\n",
    "X = sm.add_constant(X)\n",
    "model = sm.OLS(Y, X)\n",
    "results = model.fit(cov_type='HC3')\n",
    "print(results.summary())"
   ]
  },
  {
   "cell_type": "markdown",
   "metadata": {},
   "source": [
    "These results suggest that within this population, an additional hour of studying per week would \"result\" in an increase of 3 percentage points to the final grade (with high statistical significance). But this conclusion is not necessarily the correct one.\n",
    "\n",
    "Many of the coefficients are not statistically significant, and our X matrix is close to singular (suggesting a problem with multicollinearity as `statsmodels.api` explains). While this is not necessarily a cause for concern, it might cast some suspicion on the results.\n",
    "\n",
    "This result is unsurprising because in this regression we include proxies to represent unobserved ability, and include our variable of interest, hours of studying. This set up makes the implicit assumption that hours of studying and ability are independent. Unforunately, the validity of this assumption is questionable. It is certainly plausible that students with higher abilities enjoy studying more (perahps because they find it less difficult), suggesting that they will have a less negative coefficient on studying in their utility maximizations, leading them to study for longer. So the assumption that hours of studying and ability are independent is quite strong, and not necessarily valid. Violation of this assumption would suggest that the dependence between ability and studying is a source of serious multicollinearity. On the other hand, our low $\\mathrm{R}^2$ suggests that multicollinearity might not be an issue here; and that we probably just need more data. We could try to address this potential multicollinearity by dropping some variables, but generally it is better to report the full model and point out the potential issue. We don't usually drop variables because that could cause a more agregious problem through confounding effects. The ideal solution here would be to collect more data, but that is not a possibility. While multicollinearity might be present, we can't do much about it.\n",
    "\n",
    "There is another, more serious, issue with this naive approach of running an OLS fit on the data - endogeneity. In our model we have attempted to use proxies to identify ability, but what if our proxies are not fully identifying ability?  Then clearly the covariance between our $x_k$'s and the error terms is non-zero: we have endogenous variables. This endogeneity means that OLS is not a consistent estimator for our vector of $\\beta$'s! We have the following:\n",
    "$$\n",
    "\\mathrm{b}_k \\stackrel{p}{\\longrightarrow} \\beta_k + \\gamma \\frac{\\mathrm{Cov}[q, x_k]}{\\mathrm{Var}[x_k]}\n",
    "$$\n",
    "Where $q$ is the unidentified portion of ability, $\\gamma$ is the true coefficient on $q$ (if we could identify it), $\\mathrm{b}_k$ is the OLS estimated coefficient on $x_k$, and $\\beta_k$ is the true coefficient on $x_k$. Notice that $q$ is determined by how well our proxies identify ability. The better our proxies identify ability, the smaller the bias term $\\gamma \\frac{\\mathrm{Cov}[q, x_k]}{\\mathrm{Var}[x_k]}$ will be (with bias arising from our endogeneity problem).\n",
    "\n",
    "In many settings, researchers assume that $\\mathrm{Cov}[q, x_k] = 0$ except for the variable of interest (in our case, hours of studying). This is also a plausible assumption in our setting; even more so when we consider that we already determined that study time and ability might be dependent (and that part of ability is in the error term). So we have simplified our problem to identification of the true coefficient on the endogenous variable hours of studying. We should note that since we do not know what part of \"ability\" is being omitted, we cannot make any guesses about which way our OLS estimated coefficient is biased (because we can't determine the sign of $\\mathrm{Cov}[q, studying]$ )."
   ]
  },
  {
   "cell_type": "markdown",
   "metadata": {},
   "source": [
    "### Addressing Endogeneity\n",
    "\n",
    "Now that we have identified our problem, we need to find a way to account for it. Specifically, we need to find one or more instruments for hours of studying. A good instrument, $z$, would have the following characteristics:\n",
    "* $\\mathrm{Cov}[z, studying] \\ne 0 \\ \\quad$ (hours of studying covaries with $z$)\n",
    "* $\\mathrm{Cov}[z, \\varepsilon] = 0 \\ \\ \\ \\quad\\quad\\quad$ ($z$ is exogenous)\n",
    "\n",
    "Finding valid instruments proves to be fairly challenging, because we can often imagine situations where a potential instrument is not valid. For example, we might be tempted to include `school_sup` (extra educational support) as an instrument because if someone is enrolled in extra support they will study more. But upon further thought, it seems likely that enrollment in tutoring is not independent of ability (perhaps high or low ability students are more likely to get tutored), meaning that perhaps `school_sup` covaries with the unidentified ability$^1$.\n",
    "\n",
    "After some thought I concluded that `school_GP` (which school the student is enrolled in), `goout` (how often the student goes out with friends), and `male` (indicator for male), are valid instruments for hours of studying. School enrollment can be a valid instrument because studying habits are often modelled in networks$^2$; when one student with high centrality increases their studying, connected students (friends or classmates) also increase their studying. It is easy to imagine that the two schools have friendship networks that have fewer heterophilic links than homophilic links, which implies that hours of studying covaries with enrollment through random perturbations in central students' studying habits. Frequency of going out is a valid instrument because it seems likely that most students go out with friends, and that students who go out more have less time to study. We can assume that going out and ability are independent because there is no reason to think that going out would covary with ability. Lastly, gender is a valid instrument for a similar reason to that of enrollment; male to male links (friendships) will be more common than male to female links, so if central males study less than central females, then we would expect males to study less than females on average (and vice versa).\n",
    "\n",
    "Now that we have some plausible instruments for our endogenous variable, we can run 2SLS to estimate the model. Note that we exclude `no_parent` (trying to address some multicollinearity from splitting categorical variables into multiple indicators) from the exogenous variables. We are again using a heteroskedasticity robust variance-covariance matrix estimator - because robustness can never hurt.\n",
    "\n",
    "-----\n",
    "1. Earlier we had assumed that all variables other than study time were exogenous, meaning that any of those variables that was correlated with study time would be a valid instrument. But the assumption we made was very weak, in reality we don't really care if variables other than study time are endogenous because we are not interested in the coefficient on these variables. So when we are thinking about constructing instruments for schooling we still need to critically consider the exogeneity of the instrument.\n",
    "2. This specific example is from Bryan Graham's course Econ 142 during a discussion of networks and centrality. "
   ]
  },
  {
   "cell_type": "code",
   "execution_count": 13,
   "metadata": {},
   "outputs": [
    {
     "name": "stdout",
     "output_type": "stream",
     "text": [
      "                          IV-2SLS Estimation Summary                          \n",
      "==============================================================================\n",
      "Dep. Variable:                G3_perc   R-squared:                     -0.5445\n",
      "Estimator:                    IV-2SLS   Adj. R-squared:                -0.6065\n",
      "No. Observations:                 649   F-statistic:                    154.12\n",
      "Date:                Thu, Nov 30 2017   P-value (F-stat)                0.0000\n",
      "Time:                        11:51:35   Distribution:                 chi2(25)\n",
      "Cov. Estimator:                robust                                         \n",
      "                                                                              \n",
      "                             Parameter Estimates                              \n",
      "==============================================================================\n",
      "            Parameter  Std. Err.     T-stat    P-value    Lower CI    Upper CI\n",
      "------------------------------------------------------------------------------\n",
      "const          0.3895     0.2798     1.3921     0.1639     -0.1589      0.9379\n",
      "age           -0.0108     0.0143    -0.7571     0.4490     -0.0388      0.0172\n",
      "urban          0.0290     0.0336     0.8636     0.3878     -0.0368      0.0949\n",
      "fam_small      0.0189     0.0296     0.6388     0.5229     -0.0391      0.0769\n",
      "fam_split     -0.0151     0.0406    -0.3711     0.7106     -0.0946      0.0645\n",
      "Medu           0.0055     0.0172     0.3199     0.7490     -0.0282      0.0392\n",
      "Fedu           0.0244     0.0177     1.3791     0.1679     -0.0103      0.0590\n",
      "mother        -0.0055     0.0614    -0.0900     0.9283     -0.1259      0.1148\n",
      "father        -0.0019     0.0656    -0.0284     0.9774     -0.1303      0.1266\n",
      "traveltime     0.0017     0.0212     0.0808     0.9356     -0.0398      0.0432\n",
      "freetime      -0.0072     0.0134    -0.5349     0.5927     -0.0335      0.0191\n",
      "failures      -0.0732     0.0283    -2.5904     0.0096     -0.1286     -0.0178\n",
      "school_sup    -0.1448     0.0527    -2.7478     0.0060     -0.2481     -0.0415\n",
      "famsup        -0.0636     0.0351    -1.8103     0.0702     -0.1324      0.0053\n",
      "paid          -0.0359     0.0627    -0.5721     0.5673     -0.1588      0.0871\n",
      "activities    -0.0187     0.0307    -0.6096     0.5421     -0.0789      0.0415\n",
      "nursery       -0.0265     0.0333    -0.7957     0.4262     -0.0917      0.0387\n",
      "higher         0.0388     0.0595     0.6523     0.5142     -0.0779      0.1555\n",
      "internet       0.0354     0.0345     1.0267     0.3046     -0.0322      0.1029\n",
      "romantic      -0.0595     0.0289    -2.0571     0.0397     -0.1161     -0.0028\n",
      "famrel         0.0183     0.0167     1.0956     0.2732     -0.0145      0.0512\n",
      "Dalc          -0.0277     0.0209    -1.3245     0.1853     -0.0686      0.0133\n",
      "Walc           0.0232     0.0175     1.3259     0.1849     -0.0111      0.0574\n",
      "health        -0.0070     0.0089    -0.7876     0.4309     -0.0245      0.0104\n",
      "absences       0.0040     0.0036     1.1340     0.2568     -0.0029      0.0110\n",
      "studytime      0.3645     0.1016     3.5860     0.0003      0.1653      0.5637\n",
      "==============================================================================\n",
      "\n",
      "Endogenous: studytime\n",
      "Instruments: school_GP, goout, male\n",
      "Robust Covariance (Heteroskedastic)\n",
      "Debiased: False\n"
     ]
    }
   ],
   "source": [
    "# Running the 2SLS model\n",
    "\n",
    "# Dependent variable\n",
    "Y = student_perf.G3_perc\n",
    "\n",
    "# Exogenous variables\n",
    "X_exog = student_perf[['age', 'urban', 'fam_small', 'fam_split', 'Medu', 'Fedu', 'mother', 'father', 'traveltime', 'freetime', 'failures', 'school_sup', 'famsup', 'paid', 'activities', 'nursery', 'higher', 'internet', 'romantic', 'famrel', 'Dalc', 'Walc', 'health', 'absences']]\n",
    "X_exog = sm.add_constant(X_exog)\n",
    "\n",
    "# Endogenous variable\n",
    "X_endog = student_perf.studytime\n",
    "\n",
    "# Instruments\n",
    "Z = student_perf[['goout', 'male']]\n",
    "\n",
    "model = IV2SLS(Y, X_exog, X_endog, Z)\n",
    "results = model.fit()\n",
    "print(results.summary)"
   ]
  },
  {
   "cell_type": "markdown",
   "metadata": {},
   "source": [
    "These results are very encouraging. Usually we expect the significance of the coefficients to decrease for almost all the variables in a 2SLS model compared to the analog OLS model. In our 2SLS fit we find that most of the coefficients are indeed less significant, but that the coefficient on study time is actually more significant by an order of magnitude (0.0003 vs 0.002)! Not only that, but the coefficient itself is an order of magnitude larger (0.36 vs 0.03)! The increase in significance of the coefficient on our endogenous variable is highly suggestive that we have good instruments, and better identification of the marginal effect of studying on grades. \n",
    "\n",
    "One item to note is that in the 2SLS fit, our value for $R^2$ is negative. It turns out that in 2SLS (and 3SLS), a negative $R^2$ is not usually a cause for concern. In instrumental variable models we are more interested in the standard error and significance level on the coefficient of our endogenous variable. And in our fit, the coefficient is highly significant. For a more in depth analysis of the negative $R^2$ phenomenon, Stata documention provides a good explanation [here](http://www.stata.com/support/faqs/statistics/two-stage-least-squares/ \"2SLS R^2\")."
   ]
  },
  {
   "cell_type": "markdown",
   "metadata": {},
   "source": [
    "### Conclusions\n",
    "\n",
    "After addressing our issues of endogeneity, we end up with a model that is plausibly identifying the marginal effect of studying on grades. Our results estimate that a marginal increase in hours of studying (per week) results in a 36 point increase in final grade (as a percent). We must keep in mind the limitations of this model; the limited sample greatly reduce our ability to make general statements about this finding. However, our results are still indicative that in secondary schools, additional studying causes significant increases to final grades. \n",
    "\n",
    "A direction for future study would include an increase to the complexity of the model. It seems unlikely that three hours of studying per week is be enough to ensure almost anyone gets a perfect grade - so perhaps we need to allow for a quadratic (or higher degree) relationship between studying and grades."
   ]
  },
  {
   "cell_type": "markdown",
   "metadata": {},
   "source": [
    "### References\n",
    "\n",
    "Card, D., & Krueger, A. (1992). Does School Quality Matter? Returns to Education and the Characteristics of Public Schools in the United States. *Journal of Political Economy*, 100(1), 1-40.\n",
    "\n",
    "Cortez, P. and Silva, A. Using Data Mining to Predict Secondary School Student Performance. In A. Brito and J. Teixeira Eds., Proceedings of 5th FUture BUsiness TEChnology Conference (FUBUTEC 2008) pp. 5-12, Porto, Portugal, April, 2008, EUROSIS, ISBN 978-9077381-39-7. \n",
    "\n",
    "Greene, W. H. (2000). Econometric analysis. Upper Saddle River, N.J: Prentice Hall.\n",
    "\n",
    "MacKinnon, J.G. and H. White. (1985), Some heteroskedasticity consistent covariance matrix estimators with improved finite sample properties. *Journal of Econometrics*, 29, 53-57."
   ]
  }
 ],
 "metadata": {
  "kernelspec": {
   "display_name": "Python 3",
   "language": "python",
   "name": "python3"
  },
  "language_info": {
   "codemirror_mode": {
    "name": "ipython",
    "version": 3
   },
   "file_extension": ".py",
   "mimetype": "text/x-python",
   "name": "python",
   "nbconvert_exporter": "python",
   "pygments_lexer": "ipython3",
   "version": "3.6.1"
  }
 },
 "nbformat": 4,
 "nbformat_minor": 2
}
